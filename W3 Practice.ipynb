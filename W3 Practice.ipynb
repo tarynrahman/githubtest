{
 "cells": [
  {
   "cell_type": "code",
   "execution_count": 1,
   "id": "a4a38a06",
   "metadata": {},
   "outputs": [
    {
     "name": "stdout",
     "output_type": "stream",
     "text": [
      "Hello World, my name is Tara\n"
     ]
    }
   ],
   "source": [
    "output = \"Hello World, my name is Tara\"\n",
    "print(output)"
   ]
  },
  {
   "cell_type": "code",
   "execution_count": 4,
   "id": "c787a00f",
   "metadata": {},
   "outputs": [
    {
     "name": "stdout",
     "output_type": "stream",
     "text": [
      "Practicing saving to GitHub and seeing updates\n",
      "trying again\n"
     ]
    }
   ],
   "source": [
    "print(\"Practicing saving to GitHub and seeing updates\")\n",
    "print(\"trying again\")"
   ]
  },
  {
   "cell_type": "code",
   "execution_count": 5,
   "id": "b01238cc",
   "metadata": {},
   "outputs": [
    {
     "name": "stdout",
     "output_type": "stream",
     "text": [
      "My name is Tara\n"
     ]
    }
   ],
   "source": [
    "print(\"My name is Tara\")"
   ]
  },
  {
   "cell_type": "code",
   "execution_count": null,
   "id": "944a2565",
   "metadata": {},
   "outputs": [],
   "source": []
  }
 ],
 "metadata": {
  "kernelspec": {
   "display_name": "Python 3 (ipykernel)",
   "language": "python",
   "name": "python3"
  },
  "language_info": {
   "codemirror_mode": {
    "name": "ipython",
    "version": 3
   },
   "file_extension": ".py",
   "mimetype": "text/x-python",
   "name": "python",
   "nbconvert_exporter": "python",
   "pygments_lexer": "ipython3",
   "version": "3.10.6"
  }
 },
 "nbformat": 4,
 "nbformat_minor": 5
}
